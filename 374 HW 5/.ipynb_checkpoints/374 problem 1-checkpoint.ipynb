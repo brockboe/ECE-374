{
 "cells": [
  {
   "cell_type": "code",
   "execution_count": 185,
   "metadata": {},
   "outputs": [],
   "source": [
    "\"11 + 0\"\n",
    "alphabet = ['1', '0']\n",
    "r1 = ['*', ['.', ['.', ['1'], ['1']], ['0']]]\n",
    "r2 = ['*', ['+', ['.', ['1'], ['1']], ['.', ['0'], ['0']]]]"
   ]
  },
  {
   "cell_type": "code",
   "execution_count": 110,
   "metadata": {},
   "outputs": [
    {
     "name": "stdout",
     "output_type": "stream",
     "text": [
      "('*', ['.', ['.', ['1'], ['1']], ['0']], None)\n"
     ]
    }
   ],
   "source": [
    "# getOps\n",
    "# returns an oprator and two operands\n",
    "# example: \n",
    "# r1 = ['+', ['A'], ['B']]\n",
    "# reg(r1) returns the tuple:\n",
    "# ('+', ['A'], ['B'])\n",
    "def getOps(reg):\n",
    "    # grab the operator\n",
    "    operation = reg[0]\n",
    "    if (len(reg) == 1) and (reg[0] in alphabet):\n",
    "        return ('const', reg[0], None)\n",
    "    elif operation == '+':\n",
    "        return (operation, reg[1], reg[2])\n",
    "    elif operation == '.':\n",
    "        return (operation, reg[1], reg[2])\n",
    "    elif operation == '*':\n",
    "        return (operation, reg[1], None)\n",
    "\n",
    "print(getOps(r1))"
   ]
  },
  {
   "cell_type": "code",
   "execution_count": 197,
   "metadata": {},
   "outputs": [
    {
     "name": "stdout",
     "output_type": "stream",
     "text": [
      "0011\n",
      "['hel', 'l', 'o']\n"
     ]
    }
   ],
   "source": [
    "# splitString breaks up a string\n",
    "# into smaller sub-strings given\n",
    "# an index from 0 to 2^(n - 1).\n",
    "# i.e. it maps an index to all\n",
    "# possible ways to split up a string\n",
    "# and then returns a list of the\n",
    "# string s broken up in the way\n",
    "# matched to index\n",
    "def splitString(idx, s):\n",
    "    slices = [0]\n",
    "    # convert index to binary\n",
    "    idx = bin(idx)\n",
    "    idx = \"\".join(reversed(idx))\n",
    "    # iterate over binary string\n",
    "    for i in range(len(idx) - 2):\n",
    "        # cut the string where the\n",
    "        # binary number has a 1\n",
    "        if idx[i] == '1':\n",
    "            slices.append(i + 1)\n",
    "    slices.append(len(s))\n",
    "    ret = []\n",
    "    #Now actually cut up the string\n",
    "    for i in range(len(slices)-1):\n",
    "        ret.append(s[slices[i]:slices[i+1]])\n",
    "    return ret\n",
    "    \n",
    "print(\"\".join(reversed(bin(12)))[:len('hello') - 1])\n",
    "print(splitString(12, 'hello'))"
   ]
  },
  {
   "cell_type": "code",
   "execution_count": 191,
   "metadata": {},
   "outputs": [],
   "source": [
    "# Check whether or not the \n",
    "# given string s matches the\n",
    "# regex reg\n",
    "def parseRegex(s, reg):\n",
    "    # get the operation\n",
    "    ops = getOps(reg)\n",
    "    # check if we're looking at a single\n",
    "    # constant\n",
    "    if ops[0] == 'const':\n",
    "        if s == ops[1]:\n",
    "            return True\n",
    "        else:\n",
    "            return False\n",
    "    # check for + action\n",
    "    elif ops[0] == '+':\n",
    "        return parseRegex(s, ops[1]) or parseRegex(s, ops[2])\n",
    "    # check for concatenation\n",
    "    elif ops[0] == '.':\n",
    "        # Check all possible combos of concatenation\n",
    "        for i in range(0, len(s)):\n",
    "            end = len(s)\n",
    "            t = parseRegex(s[0:i], ops[1]) and parseRegex(s[i:end], ops[2])\n",
    "            if t == True:\n",
    "                return True\n",
    "        return False\n",
    "    # Check kleene star\n",
    "    elif ops[0] == '*':\n",
    "        # check empty string\n",
    "        if s == \"\":\n",
    "            return True\n",
    "        # check all possible combos of ways to slice \n",
    "        # up the string and see if it matches\n",
    "        for i in range(0, 2**(len(s) - 1) - 1):\n",
    "            t = True\n",
    "            for sub in splitString(i, s):\n",
    "                t = t and parseRegex(sub, ops[1])\n",
    "            if t == True:\n",
    "                return True\n",
    "        return False\n",
    "    return False"
   ]
  },
  {
   "cell_type": "code",
   "execution_count": 192,
   "metadata": {},
   "outputs": [
    {
     "data": {
      "text/plain": [
       "True"
      ]
     },
     "execution_count": 192,
     "metadata": {},
     "output_type": "execute_result"
    }
   ],
   "source": [
    "parseRegex(\"\", r2)"
   ]
  },
  {
   "cell_type": "code",
   "execution_count": null,
   "metadata": {},
   "outputs": [],
   "source": []
  }
 ],
 "metadata": {
  "kernelspec": {
   "display_name": "Python 3",
   "language": "python",
   "name": "python3"
  },
  "language_info": {
   "codemirror_mode": {
    "name": "ipython",
    "version": 3
   },
   "file_extension": ".py",
   "mimetype": "text/x-python",
   "name": "python",
   "nbconvert_exporter": "python",
   "pygments_lexer": "ipython3",
   "version": "3.6.7"
  }
 },
 "nbformat": 4,
 "nbformat_minor": 2
}
