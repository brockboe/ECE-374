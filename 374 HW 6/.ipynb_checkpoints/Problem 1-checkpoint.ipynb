{
 "cells": [
  {
   "cell_type": "code",
   "execution_count": 3,
   "metadata": {},
   "outputs": [],
   "source": [
    "bills = [1, 4, 7, 13, 28, 52, 91, 365]"
   ]
  },
  {
   "cell_type": "code",
   "execution_count": 18,
   "metadata": {},
   "outputs": [
    {
     "name": "stdout",
     "output_type": "stream",
     "text": [
      "[1, 4, 7, 13, 28]\n"
     ]
    }
   ],
   "source": [
    "print([r for r in bills if r < 50])"
   ]
  },
  {
   "cell_type": "code",
   "execution_count": 4,
   "metadata": {},
   "outputs": [],
   "source": [
    "inf = float('inf')"
   ]
  },
  {
   "cell_type": "code",
   "execution_count": 5,
   "metadata": {},
   "outputs": [],
   "source": [
    "def MinPaper(bills, total):\n",
    "    minimum = inf\n",
    "    \n",
    "    # Base case - our total is 0\n",
    "    if total == 0:\n",
    "        return 0\n",
    "    \n",
    "    #iterate across each type of bill\n",
    "    for B in bills:\n",
    "        if B <= total:\n",
    "            # Check every possible \n",
    "            # combination of bills\n",
    "            possible = MinPaper(bills, total-B)\n",
    "            # If we've found a smaller\n",
    "            # amount, then use that\n",
    "            if possible <= minimum:\n",
    "                minimum = possible\n",
    "    \n",
    "    return 1 + minimum"
   ]
  },
  {
   "cell_type": "code",
   "execution_count": 59,
   "metadata": {},
   "outputs": [
    {
     "data": {
      "text/plain": [
       "2"
      ]
     },
     "execution_count": 59,
     "metadata": {},
     "output_type": "execute_result"
    }
   ],
   "source": [
    "MinPaper(bills, 20)"
   ]
  },
  {
   "cell_type": "code",
   "execution_count": 89,
   "metadata": {},
   "outputs": [],
   "source": [
    "inf = float('inf')\n",
    "def MinPaperDP(bills, total):\n",
    "    # minarray[n] stores the minimum number of \n",
    "    # bills to make total=n\n",
    "    minarray = [inf for i in range(total+1)]\n",
    "\n",
    "    # set total = 0 to require\n",
    "    # 0 bills\n",
    "    for i in range(len(bills)):\n",
    "        minarray[0] = 0\n",
    "    \n",
    "    # iterate across each possible total n\n",
    "    # and each possible bill beta\n",
    "    for n in range(1, total+1):\n",
    "        for beta in range(len(bills)):\n",
    "            if bills[beta] > n:\n",
    "                break\n",
    "            # check the minimum number of bills if\n",
    "            # we use bill beta\n",
    "            possible = 1 + minarray[n - bills[beta]]\n",
    "            # if it's smaller, update the minarray\n",
    "            if possible < minarray[n]:\n",
    "                minarray[n] = possible\n",
    "    \n",
    "    return minarray[n]"
   ]
  },
  {
   "cell_type": "code",
   "execution_count": 92,
   "metadata": {},
   "outputs": [
    {
     "data": {
      "text/plain": [
       "17"
      ]
     },
     "execution_count": 92,
     "metadata": {},
     "output_type": "execute_result"
    }
   ],
   "source": [
    "MinPaperDP(bills, 4550)"
   ]
  },
  {
   "cell_type": "code",
   "execution_count": 71,
   "metadata": {},
   "outputs": [],
   "source": [
    "def getMax(bills, t):\n",
    "    for i in range(len(bills)-1, -1, -1):\n",
    "        if bills[i] <= t:\n",
    "            return bills[i]\n",
    "    \n",
    "def greedy(bills, total):\n",
    "    minimum = 0\n",
    "    while total > 0:\n",
    "        total -= getMax(bills, total)\n",
    "        minimum += 1\n",
    "    return minimum"
   ]
  },
  {
   "cell_type": "code",
   "execution_count": 72,
   "metadata": {},
   "outputs": [
    {
     "data": {
      "text/plain": [
       "4"
      ]
     },
     "execution_count": 72,
     "metadata": {},
     "output_type": "execute_result"
    }
   ],
   "source": [
    "greedy(bills, 16)"
   ]
  },
  {
   "cell_type": "code",
   "execution_count": 78,
   "metadata": {},
   "outputs": [
    {
     "name": "stdout",
     "output_type": "stream",
     "text": [
      "here\n",
      "T 416 greedy:  7 DP:  5\n",
      "here\n",
      "T 455 greedy:  7 DP:  5\n"
     ]
    }
   ],
   "source": [
    "for T in range(500):\n",
    "    if greedy(bills, T) != MinPaperDP(bills, T):\n",
    "        print('here')\n",
    "        print('T', T, 'greedy: ', greedy(bills, T), 'DP: ', MinPaperDP(bills, T))"
   ]
  },
  {
   "cell_type": "code",
   "execution_count": null,
   "metadata": {},
   "outputs": [],
   "source": []
  }
 ],
 "metadata": {
  "kernelspec": {
   "display_name": "Python 3",
   "language": "python",
   "name": "python3"
  },
  "language_info": {
   "codemirror_mode": {
    "name": "ipython",
    "version": 3
   },
   "file_extension": ".py",
   "mimetype": "text/x-python",
   "name": "python",
   "nbconvert_exporter": "python",
   "pygments_lexer": "ipython3",
   "version": "3.6.7"
  }
 },
 "nbformat": 4,
 "nbformat_minor": 2
}
