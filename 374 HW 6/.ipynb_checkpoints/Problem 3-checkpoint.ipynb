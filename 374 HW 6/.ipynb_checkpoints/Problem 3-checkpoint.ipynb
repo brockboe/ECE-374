{
 "cells": [
  {
   "cell_type": "code",
   "execution_count": 2,
   "metadata": {},
   "outputs": [],
   "source": [
    "import random"
   ]
  },
  {
   "cell_type": "code",
   "execution_count": 5,
   "metadata": {},
   "outputs": [
    {
     "name": "stdout",
     "output_type": "stream",
     "text": [
      "[30, 7, 11, 44, 58, 49, 47, 67, 48, 89, 5, 56, 33, 7, 16, 43, 27, 40, 39, 82, 60, 64, 33, 57, 94, 16, 51, 65, 47, 59, 16, 1, 6, 21, 23, 19, 16, 84, 43, 11, 97, 96, 55, 73, 75, 12, 98, 41, 75, 62, 81, 3, 61, 17, 82, 58, 5, 66, 32, 30, 14, 82, 16, 80, 61, 76, 61, 95, 23, 43, 14, 33, 97, 90, 2, 75, 96, 75, 52, 90, 40, 25, 25, 96, 21, 53, 38, 44, 82, 44, 37, 68, 27, 50, 28, 37, 77, 70, 12, 45]\n",
      "[30, 7, 11, 44, 58, 49, 47, 67, 48, 89, 5, 56, 33, 7, 16, 43, 27, 40, 39, 82, 60, 64, 33, 57, 94, 16, 51, 65, 47, 59, 16, 1, 6, 21, 23, 19, 16, 84, 43, 11, 97, 96, 55, 73, 75, 12, 98, 41, 75, 62, 81, 3, 61, 17, 82, 58, 5, 66, 32, 30, 14, 82, 16, 80, 61, 76, 61, 95, 23, 43, 14, 33, 97, 90, 2, 75, 96, 75, 52, 90, 40, 25, 25, 96, 21, 53, 38, 44, 82, 44, 37, 68, 27, 50, 28, 37, 77, 70, 12]\n"
     ]
    }
   ],
   "source": [
    "testlist = []\n",
    "for i in range(100):\n",
    "    testlist.append(random.randint(0, 100))\n",
    "print(testlist)\n",
    "print(testlist[:-1])"
   ]
  },
  {
   "cell_type": "code",
   "execution_count": 7,
   "metadata": {},
   "outputs": [],
   "source": [
    "def edit_recursive(S, T):\n",
    "    \"\"\" Computes the minimum cost to edit string S to\n",
    "    obtain string T. Character deletions, insertions,\n",
    "    and substitutions all have a cost of 1 \"\"\"\n",
    "    if len(S) == 0:\n",
    "        # insert all characters in T\n",
    "        return len(T)\n",
    "    if len(T) == 0:\n",
    "        # delete all characters in S\n",
    "        return len(S)\n",
    "    # cost to delete one char of S\n",
    "    del_cost = edit_recursive(S[:-1], T) + 1\n",
    "    # cost to insert one char of T\n",
    "    ins_cost = edit_recursive(S, T[:-1]) + 1\n",
    "    if S[-1] == T[-1]:\n",
    "        # zero cost to match chars\n",
    "        match_cost = edit_recursive(S[:-1], T[:-1])\n",
    "    else:\n",
    "        match_cost = edit_recursive(S[:-1], T[:-1]) + 1\n",
    "    return min(del_cost, ins_cost, match_cost)"
   ]
  },
  {
   "cell_type": "code",
   "execution_count": 8,
   "metadata": {},
   "outputs": [
    {
     "data": {
      "text/plain": [
       "6"
      ]
     },
     "execution_count": 8,
     "metadata": {},
     "output_type": "execute_result"
    }
   ],
   "source": [
    "edit_recursive('ALGORITHM', 'ALTRUISTIC')"
   ]
  },
  {
   "cell_type": "code",
   "execution_count": 14,
   "metadata": {},
   "outputs": [],
   "source": [
    "# S = first string\n",
    "# T = second string\n",
    "# rs = \"rolling sum\" to keep track of \n",
    "#      the edit distance so far\n",
    "# B = The bound we have on our edit\n",
    "#     distance\n",
    "def edit_recursive_bound(S, T, rs, B):\n",
    "    # Check if we have surpassed our \n",
    "    # bound and decide whether or not\n",
    "    # we should continue\n",
    "    if rs > B:\n",
    "        return float('inf')\n",
    "    \n",
    "    if len(S) == 0:\n",
    "        # insert all characters in T\n",
    "        if len(T) > B:\n",
    "            return float('inf')\n",
    "        else:\n",
    "            return len(T)\n",
    "    if len(T) == 0:\n",
    "        # delete all characters in S\n",
    "        if len(S) > B:\n",
    "            return float('inf')\n",
    "        else:\n",
    "            return len(S)\n",
    "    # cost to delete one char of S\n",
    "    del_cost = edit_recursive_bound(S[:-1], T, rs+1, B) + 1\n",
    "    # cost to insert one char of T\n",
    "    ins_cost = edit_recursive_bound(S, T[:-1], rs+1, B) + 1\n",
    "    if S[-1] == T[-1]:\n",
    "        # zero cost to match chars\n",
    "        match_cost = edit_recursive_bound(S[:-1], T[:-1], rs, B)\n",
    "    else:\n",
    "        match_cost = edit_recursive_bound(S[:-1], T[:-1], rs+1, B) + 1\n",
    "    return min(del_cost, ins_cost, match_cost)"
   ]
  },
  {
   "cell_type": "code",
   "execution_count": 19,
   "metadata": {},
   "outputs": [
    {
     "data": {
      "text/plain": [
       "inf"
      ]
     },
     "execution_count": 19,
     "metadata": {},
     "output_type": "execute_result"
    }
   ],
   "source": [
    "edit_recursive_bound('FOOD', 'MONEY', 0, 3)"
   ]
  },
  {
   "cell_type": "code",
   "execution_count": 63,
   "metadata": {},
   "outputs": [],
   "source": [
    "# S = first string\n",
    "# T = second string\n",
    "# B = edit distance bound\n",
    "def ed_bound_DP(S, T, B):\n",
    "    inf = float('inf')\n",
    "    # initialize the memo array\n",
    "    memo = [[inf for i in range(len(T)+1)] for j in range(len(S)+1)]\n",
    "    for i in range(len(S)+1):\n",
    "        for j in range(len(T)+1):\n",
    "            # edge case on the top edge\n",
    "            if i == 0:\n",
    "                memo[i][j] = j\n",
    "                continue\n",
    "            # edge case on the left edge\n",
    "            elif j == 0:\n",
    "                memo[i][j] = i\n",
    "                continue\n",
    "            # otherwise iterate through the array and \n",
    "            # get the edit distance\n",
    "            else:    \n",
    "                diff = 1\n",
    "                if S[i - 1] == T[j - 1]:\n",
    "                    diff = 0\n",
    "\n",
    "                memo[i][j] = min([memo[i - 1][j] + 1,\n",
    "                                 memo[i][j - 1] + 1,\n",
    "                                 memo[i - 1][j - 1] + diff])\n",
    "\n",
    "    # return the edit distance or\n",
    "    # infinity if it is above the \n",
    "    # bound\n",
    "    if memo[-1][-1] > B:\n",
    "        return inf\n",
    "    else:\n",
    "        return memo[-1][-1]"
   ]
  },
  {
   "cell_type": "code",
   "execution_count": 65,
   "metadata": {},
   "outputs": [
    {
     "data": {
      "text/plain": [
       "6"
      ]
     },
     "execution_count": 65,
     "metadata": {},
     "output_type": "execute_result"
    }
   ],
   "source": [
    "ed_bound_DP('ALGORITHM', 'ALTRUISTIC', 6)"
   ]
  },
  {
   "cell_type": "code",
   "execution_count": null,
   "metadata": {},
   "outputs": [],
   "source": []
  }
 ],
 "metadata": {
  "kernelspec": {
   "display_name": "Python 3",
   "language": "python",
   "name": "python3"
  },
  "language_info": {
   "codemirror_mode": {
    "name": "ipython",
    "version": 3
   },
   "file_extension": ".py",
   "mimetype": "text/x-python",
   "name": "python",
   "nbconvert_exporter": "python",
   "pygments_lexer": "ipython3",
   "version": "3.6.7"
  }
 },
 "nbformat": 4,
 "nbformat_minor": 2
}
