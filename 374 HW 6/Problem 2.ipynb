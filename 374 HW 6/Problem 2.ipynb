{
 "cells": [
  {
   "cell_type": "code",
   "execution_count": 1,
   "metadata": {},
   "outputs": [],
   "source": [
    "import random"
   ]
  },
  {
   "cell_type": "code",
   "execution_count": 49,
   "metadata": {},
   "outputs": [
    {
     "name": "stdout",
     "output_type": "stream",
     "text": [
      "117\n",
      "[5, 6, 9, 3, 5, 1, 1, 9, 7, 2, 9, 8, 10, 8, 5, 2, 9, 4, 6, 8]\n"
     ]
    }
   ],
   "source": [
    "L = 40\n",
    "l = []\n",
    "for i in range(20):\n",
    "    l.append(random.randint(1, 10))\n",
    "print(sum(l))\n",
    "print(l)"
   ]
  },
  {
   "cell_type": "code",
   "execution_count": 153,
   "metadata": {},
   "outputs": [],
   "source": [
    "def calcSlop(L, i, j, l):\n",
    "    s = 0\n",
    "    if j < i:\n",
    "        return 0\n",
    "    else:\n",
    "        for k in range(i, j):\n",
    "            s += l[k]\n",
    "    s = (L - (j - i) - s)\n",
    "    return s\n",
    "\n",
    "def slaps(l, i):\n",
    "    minarray = []\n",
    "    for j in range(i+1, len(l)):\n",
    "        if calcSlop(L, i, j, l) < 0:\n",
    "            break\n",
    "        elif (j == len(l)-1):\n",
    "            minarray.append(0)\n",
    "            break\n",
    "        else:\n",
    "            minarray.append(calcSlop(L, i, j, l) + slaps(l, j+1))\n",
    "    if len(minarray) == 0:\n",
    "        return 0\n",
    "    return min(minarray)"
   ]
  },
  {
   "cell_type": "code",
   "execution_count": 154,
   "metadata": {
    "scrolled": true
   },
   "outputs": [
    {
     "data": {
      "text/plain": [
       "5"
      ]
     },
     "execution_count": 154,
     "metadata": {},
     "output_type": "execute_result"
    }
   ],
   "source": [
    "slaps(l, 0)"
   ]
  },
  {
   "cell_type": "code",
   "execution_count": 163,
   "metadata": {},
   "outputs": [],
   "source": [
    "inf = float('inf')\n",
    "def slapsDP(l):\n",
    "    sloparray = [[inf for i in range(len(l))] for j in range(len(l))]\n",
    "    for i in range(len(l)-1, -1, -1):\n",
    "        for j in range(i, len(l)):\n",
    "            if (j >= len(l)-1) and (calcSlop(L, i, len(l)-1, l) >= 0):\n",
    "                sloparray[i][j] = 0\n",
    "                break\n",
    "            elif calcSlop(L, i, j, l) < 0:\n",
    "                break\n",
    "            else:\n",
    "                sloparray[i][j] = calcSlop(L, i, j, l) + min(sloparray[j+1])\n",
    "                \n",
    "    return min(sloparray[0])"
   ]
  },
  {
   "cell_type": "code",
   "execution_count": 164,
   "metadata": {},
   "outputs": [
    {
     "data": {
      "text/plain": [
       "5"
      ]
     },
     "execution_count": 164,
     "metadata": {},
     "output_type": "execute_result"
    }
   ],
   "source": [
    "slapsDP(l)"
   ]
  },
  {
   "cell_type": "code",
   "execution_count": 161,
   "metadata": {},
   "outputs": [],
   "source": [
    "inf = float('inf')\n",
    "\n",
    "def calcSlop(L, i, j, l):\n",
    "    # set our initial sum to 0\n",
    "    s = 0\n",
    "    # Make sure our bounds are sane\n",
    "    if j < i:\n",
    "        return 0\n",
    "    else:\n",
    "        # sum up word lengths\n",
    "        for k in range(i, j):\n",
    "            s += l[k]\n",
    "    # calculate & return slop\n",
    "    s = (L - (j - i) - s)**3\n",
    "    return s\n",
    "\n",
    "def minSlopDP(l, L):\n",
    "    # initialize our slop array\n",
    "    sloparray = [inf for i in range(len(l))]\n",
    "    # iterate from the last entry in our\n",
    "    # word list to the very first\n",
    "    for i in range(len(l)-1, -1, -1):\n",
    "        # i through j is the line we are currently looking at\n",
    "        for j in range(i, len(l)):\n",
    "            # if j is the final word in our list and it fits\n",
    "            # into one single line, then we can set our slop\n",
    "            # as being 0\n",
    "            if (j >= len(l)-1) and (calcSlop(L, i, len(l)-1, l) >= 0):\n",
    "                sloparray[i] = 0\n",
    "                break\n",
    "            # if we have too many words and we over-fill a line\n",
    "            # then it is time to stop and move onto the next line\n",
    "            elif calcSlop(L, i, j, l) < 0:\n",
    "                break\n",
    "            # otherwise see the minimum slop if we choose our line\n",
    "            # to be i through j\n",
    "            else:\n",
    "                possible = calcSlop(L, i, j, l) + sloparray[j+1]\n",
    "                sloparray[i] = min([possible, sloparray[i]])\n",
    "    \n",
    "    # return the minimum slop\n",
    "    return sloparray[0]"
   ]
  },
  {
   "cell_type": "code",
   "execution_count": 162,
   "metadata": {},
   "outputs": [
    {
     "name": "stdout",
     "output_type": "stream",
     "text": [
      "5\n"
     ]
    }
   ],
   "source": [
    "print(slapDPF(l))"
   ]
  },
  {
   "cell_type": "code",
   "execution_count": null,
   "metadata": {},
   "outputs": [],
   "source": []
  }
 ],
 "metadata": {
  "kernelspec": {
   "display_name": "Python 3",
   "language": "python",
   "name": "python3"
  },
  "language_info": {
   "codemirror_mode": {
    "name": "ipython",
    "version": 3
   },
   "file_extension": ".py",
   "mimetype": "text/x-python",
   "name": "python",
   "nbconvert_exporter": "python",
   "pygments_lexer": "ipython3",
   "version": "3.6.7"
  }
 },
 "nbformat": 4,
 "nbformat_minor": 2
}
