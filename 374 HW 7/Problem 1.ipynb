{
 "cells": [
  {
   "cell_type": "code",
   "execution_count": 17,
   "metadata": {},
   "outputs": [],
   "source": [
    "V = [0, 1, 2, 3, 4, 5]\n",
    "E = [[1], [0, 2], [1, 3], [2, 4], [3, 5], [4]]"
   ]
  },
  {
   "cell_type": "code",
   "execution_count": 18,
   "metadata": {},
   "outputs": [],
   "source": [
    "# Just a class definition to make things\n",
    "# more clear\n",
    "class Vertex:\n",
    "    def __init__(self, dest, label):\n",
    "        self.label = label\n",
    "# Determines if the next node follows\n",
    "# the pattern rule\n",
    "def IsValidTransition(a, b):\n",
    "    if a.label == 3 and b.label == 7:\n",
    "        return True\n",
    "    if a.label == 7 and b.label == 4:\n",
    "        return True\n",
    "    if a.label == 4 and b.label == 3:\n",
    "        return True\n",
    "    return False\n",
    "\n",
    "# Find if a path from source to dest\n",
    "# exists that follows the 374 pattern\n",
    "# assumption: We use adjacenty list\n",
    "# data structure\n",
    "def FindPath(V, E, source, dest):\n",
    "    stack = []\n",
    "    visited = []\n",
    "    stack.append(source)\n",
    "    # continue while we have a full \n",
    "    # stack\n",
    "    while len(stack) > 0:\n",
    "        # pop off an element and \n",
    "        # get it's neighbors\n",
    "        curr = stack.pop()\n",
    "        visited.append(curr)\n",
    "        neighbors = E[curr]\n",
    "        \n",
    "        # If we have found a path return true\n",
    "        if (dest in neighbors) and (IsValidTransition(curr, dest)):\n",
    "            return True\n",
    "        # OTherwise continue our depth-first search\n",
    "        else:\n",
    "            for n in neighbors:\n",
    "                if (not n in visited) and (IsValidTransition(curr, n)):\n",
    "                    stack.append(n)\n",
    "    # return False if we haven't found a path\n",
    "    return False"
   ]
  },
  {
   "cell_type": "code",
   "execution_count": 19,
   "metadata": {},
   "outputs": [
    {
     "data": {
      "text/plain": [
       "True"
      ]
     },
     "execution_count": 19,
     "metadata": {},
     "output_type": "execute_result"
    }
   ],
   "source": [
    "FindPath(V, E, 0, 5)"
   ]
  },
  {
   "cell_type": "code",
   "execution_count": null,
   "metadata": {},
   "outputs": [],
   "source": [
    "class Edge:\n",
    "    def __init__(self, identifier, source, dest, label):\n",
    "        self.dest = dest\n",
    "        self.label = label\n",
    "        \n",
    "class Vertex:\n",
    "    def __init__(self, dest, label):\n",
    "        self.label = label"
   ]
  },
  {
   "cell_type": "code",
   "execution_count": 20,
   "metadata": {},
   "outputs": [
    {
     "ename": "SyntaxError",
     "evalue": "invalid syntax (<ipython-input-20-e6de099a0af4>, line 6)",
     "output_type": "error",
     "traceback": [
      "\u001b[1;36m  File \u001b[1;32m\"<ipython-input-20-e6de099a0af4>\"\u001b[1;36m, line \u001b[1;32m6\u001b[0m\n\u001b[1;33m    and (not [edge.dest, vertex, edge.label] in edgelist):\u001b[0m\n\u001b[1;37m                                                         ^\u001b[0m\n\u001b[1;31mSyntaxError\u001b[0m\u001b[1;31m:\u001b[0m invalid syntax\n"
     ]
    }
   ],
   "source": [
    "def TransformGraph(E, V):\n",
    "    edgelist = []\n",
    "    for vertex in V:\n",
    "        for edge in E[vertex]:\n",
    "            if ((not [vertex, edge.dest, edge.label] in edgelist) \n",
    "                and (not [edge.dest, vertex, edge.label] in edgelist):\n",
    "                edgelist.append([vertex, edge.dest, edge.label])\n",
    "            else:\n",
    "                continue\n",
    "    "
   ]
  },
  {
   "cell_type": "code",
   "execution_count": null,
   "metadata": {},
   "outputs": [],
   "source": [
    "# Checks if a path through the graph\n",
    "# can be found from source to dest\n",
    "# that satisfies a regular expression\n",
    "def FindPathRegex(V, E, source, dest, dfa_start, dfa_accepting, delta):\n",
    "    stack = []\n",
    "    visited = []\n",
    "    stack.append((dfa_start, source))\n",
    "    # continue while we have a full \n",
    "    # stack\n",
    "    while len(stack) > 0:\n",
    "        # pop off an element and \n",
    "        # get it's neighbors\n",
    "        curr = stack.pop()\n",
    "        visited.append(curr)\n",
    "        neighbors = E[curr[1]]\n",
    "    \n",
    "        # Check if we've found a path\n",
    "        if curr[1] == dest and curr[0] in dfa_accepting:\n",
    "            return True\n",
    "    \n",
    "        # otherwise keep searching\n",
    "        for n in neighbors:\n",
    "            p = (delta(curr[0], neighbor.label), neighbor)\n",
    "            if not p in visited:\n",
    "                stack.append(p)\n",
    "\n",
    "    # return False if we haven't found a path\n",
    "    return False"
   ]
  },
  {
   "cell_type": "code",
   "execution_count": null,
   "metadata": {},
   "outputs": [],
   "source": [
    "# Find a path that satisfies the pattern\n",
    "# with edge labels\n",
    "def FindPathEdge(V, E, start, dest):\n",
    "    # Prepare to do a stack-based\n",
    "    # depth first search\n",
    "    visited = []\n",
    "    stack = []\n",
    "    # Append our initial values\n",
    "    for n in E[start]:\n",
    "        stack.append((edgeLabel(start, n), n))\n",
    "    while len(stack) > 0:\n",
    "        # Pop off our current node\n",
    "        curr = stack.pop\n",
    "        visited.append(curr)\n",
    "        neighbors = E[curr[1]]\n",
    "        \n",
    "        # Check if we have found a valid path\n",
    "        if ((dest in neighbors) and \n",
    "            IsValidTransition(curr[0], edgeLabel(curr[1], dest))):\n",
    "            return True\n",
    "        \n",
    "        # Otherwise keep searching\n",
    "        for n in neighbors:\n",
    "            el = edgeLabel(curr[1], n)\n",
    "            goodPath = IsValidTransition(curr[0], el)\n",
    "            if ((not (el, n) in visited) and goodPath):\n",
    "                stack.append(el, n)\n",
    "    # If we've searched everything with no success,\n",
    "    # return no path\n",
    "    return False       "
   ]
  }
 ],
 "metadata": {
  "kernelspec": {
   "display_name": "Python 3",
   "language": "python",
   "name": "python3"
  },
  "language_info": {
   "codemirror_mode": {
    "name": "ipython",
    "version": 3
   },
   "file_extension": ".py",
   "mimetype": "text/x-python",
   "name": "python",
   "nbconvert_exporter": "python",
   "pygments_lexer": "ipython3",
   "version": "3.6.7"
  }
 },
 "nbformat": 4,
 "nbformat_minor": 2
}
