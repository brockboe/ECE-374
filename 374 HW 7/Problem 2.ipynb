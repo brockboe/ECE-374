{
 "cells": [
  {
   "cell_type": "code",
   "execution_count": 1,
   "metadata": {},
   "outputs": [
    {
     "ename": "SyntaxError",
     "evalue": "invalid syntax (<ipython-input-1-4e54c695f811>, line 32)",
     "output_type": "error",
     "traceback": [
      "\u001b[1;36m  File \u001b[1;32m\"<ipython-input-1-4e54c695f811>\"\u001b[1;36m, line \u001b[1;32m32\u001b[0m\n\u001b[1;33m    else if neighbor.status == 'new':\u001b[0m\n\u001b[1;37m          ^\u001b[0m\n\u001b[1;31mSyntaxError\u001b[0m\u001b[1;31m:\u001b[0m invalid syntax\n"
     ]
    }
   ],
   "source": [
    "# Check if we need to introduce a temporary\n",
    "# variable\n",
    "# True = no temp vars needed\n",
    "# False = temp vars needed\n",
    "def NoTempVarsNeeded(E, V):\n",
    "    # begin by ensuring all vertices\n",
    "    # are marked as new\n",
    "    for vertice in V:\n",
    "        vertice.status = 'new'\n",
    "    # Check each individual vertice for\n",
    "    # a cycle\n",
    "    for vertice in V:\n",
    "        if vertice.status == 'new':\n",
    "            # If the vertice has a cycle\n",
    "            # return False\n",
    "            if IsAcyclicDFS(vertice) == False:\n",
    "                return False\n",
    "            \n",
    "    return True\n",
    "\n",
    "# Check if a given vertice has is included\n",
    "# in any cycle\n",
    "def IsAcyclicDFS(E, V, vertice):\n",
    "    # Set our vertice status to active\n",
    "    vertice.status = 'active'\n",
    "    for neighbor in E[vertice]:\n",
    "        # if the neighbor is currently active\n",
    "        # or is not acyclic itself, then\n",
    "        # we return false\n",
    "        if neighbor.status == 'active':\n",
    "            return False\n",
    "        elif neighbor.status == 'new':\n",
    "            if IsAcyclicDFS(neighbor) == False:\n",
    "                return False\n",
    "    vertice.status = 'finished'\n",
    "    return True"
   ]
  },
  {
   "cell_type": "code",
   "execution_count": null,
   "metadata": {},
   "outputs": [],
   "source": [
    "# Check if we need to introduce a temporary\n",
    "# variable\n",
    "# True = no temp vars needed\n",
    "# False = temp vars needed\n",
    "def NoTempVarsNeeded(E, V):\n",
    "    # begin by ensuring all vertices\n",
    "    # are marked as new\n",
    "    for vertice in V:\n",
    "        vertice.status = 'new'\n",
    "    # Check each individual vertice for\n",
    "    # a cycle\n",
    "    for vertice in V:\n",
    "        if vertice.status == 'new':\n",
    "            # If the vertice has a cycle\n",
    "            # return False\n",
    "            if IsAcyclicDFS(vertice) == False:\n",
    "                return False\n",
    "            \n",
    "    return True\n",
    "\n",
    "# Check if a given vertice has is included\n",
    "# in any cycle\n",
    "def IsAcyclicDFS(E, V, vertice):\n",
    "    num_cycles = 0\n",
    "    # Set our vertice status to active\n",
    "    vertice.status = 'active'\n",
    "    for neighbor in E[vertice]:\n",
    "        # if the neighbor is currently active\n",
    "        # or is not acyclic itself, then\n",
    "        # we return false\n",
    "        if neighbor.status == 'active':\n",
    "            return False\n",
    "        else if neighbor.status == 'new':\n",
    "            if IsAcyclicDFS(neighbor) == False:\n",
    "                # We have detected a cycle, increase\n",
    "                # our count\n",
    "                num_cycles += 1\n",
    "                # If we have more than 2 cycles, return\n",
    "                # False\n",
    "                if num_cycles >= 2:\n",
    "                    return False\n",
    "    vertice.status = 'finished'\n",
    "    return True"
   ]
  }
 ],
 "metadata": {
  "kernelspec": {
   "display_name": "Python 3",
   "language": "python",
   "name": "python3"
  },
  "language_info": {
   "codemirror_mode": {
    "name": "ipython",
    "version": 3
   },
   "file_extension": ".py",
   "mimetype": "text/x-python",
   "name": "python",
   "nbconvert_exporter": "python",
   "pygments_lexer": "ipython3",
   "version": "3.6.7"
  }
 },
 "nbformat": 4,
 "nbformat_minor": 2
}
