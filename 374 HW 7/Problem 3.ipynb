{
 "cells": [
  {
   "cell_type": "code",
   "execution_count": 71,
   "metadata": {},
   "outputs": [],
   "source": [
    "X = [0, 4, 6, 2, 6, 7, 6, 9]\n",
    "Y = [0, 6, 8, 2, 8, 3, 8, 1]\n",
    "\n",
    "import numpy as np"
   ]
  },
  {
   "cell_type": "code",
   "execution_count": null,
   "metadata": {},
   "outputs": [],
   "source": [
    "def Length(x1, y1, x2, y2):\n",
    "    return np.sqrt((x2 - x1)**2 + (y2 - y1)**2)\n",
    "\n",
    "class Vertex:\n",
    "    def __init__(self, index, LP=-1, status='new'):\n",
    "        self.index = index\n",
    "        self.LP = LP\n",
    "        self.status = status"
   ]
  },
  {
   "cell_type": "code",
   "execution_count": 69,
   "metadata": {},
   "outputs": [],
   "source": [
    "neg_inf = -float('inf')\n",
    "\n",
    "# Vertex class definition, may be helpful for\n",
    "# reading the code\n",
    "class Vertex:\n",
    "    def __init__(self, index, LP=-1, status='new'):\n",
    "        self.index = index\n",
    "        self.LP = LP\n",
    "        self.status = status\n",
    "\n",
    "# Return the longest path from \n",
    "# vertex d\n",
    "def LongestPathTopological(E, V, d):\n",
    "    # if d is a sink then return 0\n",
    "    if len(E[d.index]) == 0:\n",
    "        d.LP = 0\n",
    "        return 0\n",
    "    d.LP = neg_inf\n",
    "    # Otherwise return the longest path\n",
    "    # recursively looking at the vertices\n",
    "    # it is connected to\n",
    "    for edge in E[d.index]:\n",
    "        LongestPathTopological(E, V, edge)\n",
    "        l = Length(X[d.index], Y[d.index], \n",
    "                   X[edge.index], Y[edge.index])\n",
    "        l += edge.LP\n",
    "        d.LP = max([l, d.LP])\n",
    "    return d.LP\n",
    "\n",
    "# Topological sort helper function, essentially\n",
    "# a python implementation of the algorithm \n",
    "# given by Jeff Erickson in 'Algorithms'\n",
    "def TopSortDFS(E, v, S, clock):\n",
    "    v.status = 'active'\n",
    "    for n in E[v.index]:\n",
    "        if n.status == 'new':\n",
    "            clock = TopSortDFS(E, n, S, clock)\n",
    "    v.status = 'finished'\n",
    "    S[clock] = v\n",
    "    clock -= 1\n",
    "    return clock\n",
    "\n",
    "# Topological sort - by topologically sorting the\n",
    "# vertices it will give us an efficient way to\n",
    "# compute the longest path\n",
    "def TopSort(E, V):\n",
    "    for vertice in V:\n",
    "        vertice.status = 'new'\n",
    "    clock = len(V) - 1\n",
    "    S = [None] * len(V)\n",
    "    for vertice in V:\n",
    "        if vertice.status == 'new':\n",
    "            clock = TopSortDFS(E, vertice, S, clock)\n",
    "    return S\n",
    "\n",
    "# compute the longest monotonically increasing \n",
    "# path among a given set of points X and Y\n",
    "def LongestPath(X, Y):\n",
    "    # initialize points and generate a graph\n",
    "    # of all the points on the plane\n",
    "    V = [ Vertex(i) for i in range(len(X))]\n",
    "    E = [ [] for i in range(len(X))]\n",
    "    for source in V:\n",
    "        for dest in V:\n",
    "            if source == dest:\n",
    "                continue\n",
    "            elif (X[dest.index] > X[source.index] \n",
    "                and Y[dest.index] > Y[source.index]):\n",
    "                E[source.index].append(dest)\n",
    "    # topologically sort elements\n",
    "    S = TopSort(E, V)\n",
    "    # Compute longest path possible for each\n",
    "    # vertice\n",
    "    for d in S:\n",
    "        if d.LP == -1:\n",
    "            LongestPathTopological(E, V, d)\n",
    "    # return the longest path among all the \n",
    "    # vertices\n",
    "    return max(v.LP for v in S)"
   ]
  },
  {
   "cell_type": "code",
   "execution_count": 70,
   "metadata": {
    "scrolled": false
   },
   "outputs": [
    {
     "data": {
      "text/plain": [
       "10.12899020449196"
      ]
     },
     "execution_count": 70,
     "metadata": {},
     "output_type": "execute_result"
    }
   ],
   "source": [
    "LongestPath(X, Y)"
   ]
  },
  {
   "cell_type": "code",
   "execution_count": null,
   "metadata": {},
   "outputs": [],
   "source": []
  }
 ],
 "metadata": {
  "kernelspec": {
   "display_name": "Python 3",
   "language": "python",
   "name": "python3"
  },
  "language_info": {
   "codemirror_mode": {
    "name": "ipython",
    "version": 3
   },
   "file_extension": ".py",
   "mimetype": "text/x-python",
   "name": "python",
   "nbconvert_exporter": "python",
   "pygments_lexer": "ipython3",
   "version": "3.6.7"
  }
 },
 "nbformat": 4,
 "nbformat_minor": 2
}
