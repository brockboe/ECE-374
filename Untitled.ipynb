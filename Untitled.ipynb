{
 "cells": [
  {
   "cell_type": "code",
   "execution_count": 3,
   "metadata": {},
   "outputs": [],
   "source": [
    "bulbs = [False, True, True, True, False, True, True, True, True, False]\n",
    "testarr = [0, 1, 2, 3, 4, 5, 6]"
   ]
  },
  {
   "cell_type": "code",
   "execution_count": 4,
   "metadata": {},
   "outputs": [
    {
     "name": "stdout",
     "output_type": "stream",
     "text": [
      "3\n",
      "[0, 1, 2]\n",
      "[3, 4, 5, 6]\n"
     ]
    }
   ],
   "source": [
    "l = 0\n",
    "r = len(testarr)\n",
    "m = (0 + len(testarr)) // 2\n",
    "print(m)\n",
    "print(testarr[l:m])\n",
    "print(testarr[m:r])"
   ]
  },
  {
   "cell_type": "code",
   "execution_count": 5,
   "metadata": {},
   "outputs": [],
   "source": [
    "def test(bulbs):\n",
    "    if False in bulbs:\n",
    "        return False\n",
    "    else:\n",
    "        return True"
   ]
  },
  {
   "cell_type": "code",
   "execution_count": 6,
   "metadata": {},
   "outputs": [
    {
     "data": {
      "text/plain": [
       "False"
      ]
     },
     "execution_count": 6,
     "metadata": {},
     "output_type": "execute_result"
    }
   ],
   "source": [
    "test(bulbs)"
   ]
  },
  {
   "cell_type": "code",
   "execution_count": 7,
   "metadata": {},
   "outputs": [],
   "source": [
    "def FindBrokenBulbs(bulbs, l, r):\n",
    "    # Base cases - check one individual light\n",
    "    if (r - l) == 1:\n",
    "        # We have found the singular bulb that is bad\n",
    "        return [l]\n",
    "    else:\n",
    "        bbulbs = []\n",
    "        m = (l + r) // 2\n",
    "        #Check if there's bad bulbs in the left subhalf\n",
    "        if not test(bulbs[l:m]):\n",
    "            bbulbs = bbulbs + FindBrokenBulbs(bulbs, l, m)\n",
    "        #Check if there's bad bulbs in the right subhalf\n",
    "        if not test(bulbs[m:r]):\n",
    "            bbulbs = bbulbs + FindBrokenBulbs(bulbs, m, r)\n",
    "        #return the array of indices of bad bulbs recursively\n",
    "        return bbulbs"
   ]
  },
  {
   "cell_type": "code",
   "execution_count": 8,
   "metadata": {},
   "outputs": [
    {
     "data": {
      "text/plain": [
       "[0, 4, 9]"
      ]
     },
     "execution_count": 8,
     "metadata": {},
     "output_type": "execute_result"
    }
   ],
   "source": [
    "FindBrokenBulbs(bulbs, 0, len(bulbs))"
   ]
  },
  {
   "cell_type": "code",
   "execution_count": 96,
   "metadata": {},
   "outputs": [
    {
     "name": "stdout",
     "output_type": "stream",
     "text": [
      "10\n"
     ]
    }
   ],
   "source": [
    "keytest = [0, 0, 0, 0, 1, 0, 0, 0, 0, 1]\n",
    "print(len(keytest))"
   ]
  },
  {
   "cell_type": "code",
   "execution_count": 97,
   "metadata": {},
   "outputs": [],
   "source": [
    "def batchgcd(keys, i, j, k, l):\n",
    "    left_iter = i\n",
    "    right_iter = k\n",
    "    bl = False\n",
    "    br = False\n",
    "    \n",
    "    while left_iter <= j:\n",
    "        if keys[left_iter] == 1:\n",
    "            bl = True\n",
    "            break\n",
    "        left_iter += 1\n",
    "            \n",
    "    while right_iter <= l:\n",
    "        if keys[right_iter] == 1:\n",
    "            br = True\n",
    "            break\n",
    "        right_iter += 1\n",
    "    return bl and br"
   ]
  },
  {
   "cell_type": "code",
   "execution_count": 98,
   "metadata": {},
   "outputs": [
    {
     "data": {
      "text/plain": [
       "False"
      ]
     },
     "execution_count": 98,
     "metadata": {},
     "output_type": "execute_result"
    }
   ],
   "source": [
    "batchgcd(keytest, 2, 2, 3, 3)"
   ]
  },
  {
   "cell_type": "code",
   "execution_count": 99,
   "metadata": {},
   "outputs": [],
   "source": [
    "def FindKeys(keys, ll, lr, rl, rr):\n",
    "    # Base case - whenever we're looking at\n",
    "    # only 2 single elements\n",
    "    if (ll == lr) and (rl == rr):\n",
    "        # Check batchgcd to see if the two keys\n",
    "        # we're looking at are the bad keys\n",
    "        if batchgcd(keys, ll, lr, rl, rr):\n",
    "            return [ll, rl]\n",
    "        else:\n",
    "            return []\n",
    "        \n",
    "    else:\n",
    "        #find midpoints\n",
    "        lm = (ll + lr) // 2\n",
    "        rm = (rl + rr) // 2\n",
    "        \n",
    "        # Begin by checking if the 2 \"blocks\" we're\n",
    "        # looking at contain the bad keys\n",
    "        if batchgcd(keys, ll, lr, rl, rr):\n",
    "            # Break up the blocks into smaller pieces\n",
    "            # recursively until we find the 2 \n",
    "            # keys\n",
    "            if batchgcd(keys, ll, lm, rl, rm):\n",
    "                return FindKeys(keys, ll, lm, rl, rm)\n",
    "            elif batchgcd(keys, ll, lm, rm+1, rr):\n",
    "                return FindKeys(keys, ll, lm, rm+1, rr)\n",
    "            elif batchgcd(keys, lm+1, lr, rl, rm):\n",
    "                return FindKeys(keys, lm+1, lr, rl, rm)\n",
    "            else:\n",
    "                return FindKeys(keys, lm, lr, rm+1, rr)\n",
    "         \n",
    "        # if the 2 blocks don't contain the bad keys, then\n",
    "        # search the left and right halves until we find\n",
    "        # 2 seperate blocks that contain the bad keys.\n",
    "        else:\n",
    "            bad = []\n",
    "            # check the left half\n",
    "            bad = bad + FindKeys(keys, ll, lm, lm+1, lr)\n",
    "            # if it's not in the left half, check \n",
    "            # the right half\n",
    "            if bad == []:\n",
    "                bad = bad + FindKeys(keys, rl, rm, rm+1, rr)\n",
    "            return bad"
   ]
  },
  {
   "cell_type": "code",
   "execution_count": 100,
   "metadata": {},
   "outputs": [
    {
     "data": {
      "text/plain": [
       "[4, 9]"
      ]
     },
     "execution_count": 100,
     "metadata": {},
     "output_type": "execute_result"
    }
   ],
   "source": [
    "m = len(keytest) // 2\n",
    "FindKeys(keytest, 0, m, m+1, len(keytest)-1)"
   ]
  },
  {
   "cell_type": "code",
   "execution_count": null,
   "metadata": {},
   "outputs": [],
   "source": []
  }
 ],
 "metadata": {
  "kernelspec": {
   "display_name": "Python 3",
   "language": "python",
   "name": "python3"
  },
  "language_info": {
   "codemirror_mode": {
    "name": "ipython",
    "version": 3
   },
   "file_extension": ".py",
   "mimetype": "text/x-python",
   "name": "python",
   "nbconvert_exporter": "python",
   "pygments_lexer": "ipython3",
   "version": "3.6.7"
  }
 },
 "nbformat": 4,
 "nbformat_minor": 2
}
